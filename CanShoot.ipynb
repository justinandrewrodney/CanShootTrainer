{
 "cells": [
  {
   "cell_type": "code",
   "execution_count": 1,
   "id": "6f04d6a5",
   "metadata": {},
   "outputs": [],
   "source": [
    "import pandas as pd\n",
    "import numpy as np\n",
    "\n",
    "import tensorflow as tf\n",
    "from tensorflow.keras import layers\n",
    "\n",
    "np.set_printoptions(precision=3, suppress=True)\n",
    "#tf.random.set_seed(1)\n",
    "\n",
    "def get_feat_and_labels(filename, as_tensor = True):\n",
    "    data = pd.read_csv(filename)\n",
    "\n",
    "    data[\"Angle\"] = np.abs(np.arctan2(data[\"OppY\"], data[\"OppX\"]))\n",
    "    data[\"OppY\"] = np.abs(data[\"OppY\"])\n",
    "    data = data[[\"Angle\",  \"DistanceToGoal\", \"DistanceToOpp\",  \"OppX\", \"OppY\",\"Success\"]]\n",
    "    \n",
    "    #Converting text yes no to int.\n",
    "    if(data[\"Success\"].dtype == object):\n",
    "        data[\"Success\"] = (data[\"Success\"] == \"YES\")*1\n",
    "    \n",
    "    if(as_tensor):\n",
    "        return tf.convert_to_tensor(data.drop(columns=\"Success\"),dtype=tf.float32), \\\n",
    "                tf.convert_to_tensor(data[\"Success\"],dtype=tf.float32),\\\n",
    "                data.copy() \n",
    "    else:\n",
    "        return data.drop(columns=\"Success\"), data[\"Success\"], data.copy() \n"
   ]
  },
  {
   "cell_type": "code",
   "execution_count": 2,
   "id": "6f41ac8b",
   "metadata": {},
   "outputs": [],
   "source": [
    "\"\"\"Code used to create training data\"\"\"\n",
    "    \n",
    "from sklearn.model_selection import train_test_split\n",
    "\n",
    "def printCount(data):\n",
    "    if type(data) == pd.DataFrame:\n",
    "        success_no = data[data['Success'] == 0]\n",
    "        success_yes = data[data['Success'] == 1]\n",
    "    else:\n",
    "        success_no = data[data == 0]\n",
    "        success_yes = data[data == 1]\n",
    "    print('success no:', success_no.shape[0])\n",
    "    print('success yes:', success_yes.shape[0])\n",
    "    \n",
    "def get_data(names):\n",
    "    _, _, original_data = get_feat_and_labels(names[0], as_tensor=False)\n",
    "    \n",
    "    print(names[0])#,original_data)\n",
    "    printCount(original_data)\n",
    "    for n in names[1:]:\n",
    "        _, _, d = get_feat_and_labels(n, as_tensor=False)        \n",
    "        print(n)#,_)\n",
    "        printCount(d)\n",
    "        original_data = pd.concat([original_data, d],axis=0)\n",
    "    \n",
    "    printCount(original_data)\n",
    "    return original_data\n",
    "\n",
    "# data_names = [\n",
    "#                 \"..\\MotionTestingData\\CanShootTolLocal2x.csv\",\n",
    "#                 \"..\\MotionTestingData\\CanShootTolLocal3x.csv\",\n",
    "#                 \"..\\MotionTestingData\\CanShootTolLocal4x.csv\",\n",
    "#                 \"..\\\\NewGoodData\\Testfeb8num3\\CanShoot2MotionTol2x.csv\",\n",
    "#                 \"..\\\\NewGoodData\\Testfeb8num3\\CanShoot2MotionTol3x.csv\",\n",
    "#                 \"..\\\\NewGoodData\\Testfeb8num3\\CanShoot2MotionTol4x.csv\",\n",
    "#                 \"..\\\\NewGoodData\\Testfeb8num3\\CanShoot2plus75tolerance.csv\",\n",
    "#                 \"..\\\\NewGoodData\\Testfeb8num3\\CanShoot2Tol3x.csv\",\n",
    "#                 \"..\\\\NewGoodData\\Testfeb8num3\\CanShoot2Tol4x.csv\",\n",
    "\n",
    "#                 \"..\\\\NewGoodData\\Testfeb8num3\\CanShoot2Tolerance2x.csv\",\n",
    "#                 \"..\\\\NewGoodData\\Originals\\CanShoot2Behavior.csv\",\n",
    "#                 \"..\\\\NewGoodData\\Originals\\CanShoot2Bottom.csv\",\n",
    "#                 \"..\\\\NewGoodData\\Originals\\CanShoot2Upper.csv\",\n",
    "#                 \"..\\\\NewGoodData\\Originals\\CanShoot2Mid.csv\",\n",
    "    \n",
    "#                  #\"..\\\\NewGoodData\\Originals\\CanShoot2Center.csv\",\n",
    "#                  #\"..\\MotionTestingData\\CanShootStillLocal3x.csv\",\n",
    "#              ]\n",
    "\n",
    "data_names = [\n",
    "               \"..\\MotionTestingData\\CanShootStillLocal3x.csv\",#still\n",
    "                \n",
    "                \"..\\MotionTestingData\\CanShootTolLocal2x.csv\",#Motion\n",
    "                \"..\\MotionTestingData\\CanShootTolLocal3x.csv\",#Motion\n",
    "                \"..\\MotionTestingData\\CanShootTolLocal4x.csv\",#Motion\n",
    "                \n",
    "                \"..\\\\NewGoodData\\Testfeb8num3\\CanShoot2MotionTol2x.csv\",#Motion\n",
    "                \"..\\\\NewGoodData\\Testfeb8num3\\CanShoot2MotionTol3x.csv\",#Motion\n",
    "                \"..\\\\NewGoodData\\Testfeb8num3\\CanShoot2MotionTol4x.csv\",#Motion\n",
    "                \n",
    "                \"..\\\\NewGoodData\\Testfeb8num3\\CanShoot2plus75tolerance.csv\",#still\n",
    "                \"..\\\\NewGoodData\\Testfeb8num3\\CanShoot2Tol3x.csv\",#still\n",
    "                \"..\\\\NewGoodData\\Testfeb8num3\\CanShoot2Tol4x.csv\",#still\n",
    "                \"..\\\\NewGoodData\\Testfeb8num3\\CanShoot2Tolerance2x.csv\",#still\n",
    "                \n",
    "                \"..\\\\NewGoodData\\Originals\\CanShoot2Behavior.csv\",#motion\n",
    "                \n",
    "                \"..\\\\NewGoodData\\Originals\\CanShoot2Bottom.csv\",#still\n",
    "                \"..\\\\NewGoodData\\Originals\\CanShoot2Upper.csv\",#still\n",
    "                \"..\\\\NewGoodData\\Originals\\CanShoot2Center.csv\",#still\n",
    "                \"..\\\\NewGoodData\\Originals\\CanShoot2Mid.csv\"#still\n",
    "\n",
    "             ]\n",
    "\n",
    "simple_load = True\n",
    "\n",
    "if(simple_load):  \n",
    "    can_shoot_features, can_shoot_labels, _ = get_feat_and_labels(\"TrainFinal.csv\" )\n",
    "    cs_feat_valid, cs_labels_valid, _ = get_feat_and_labels(\"ValidFinal.csv\" )\n",
    "    \n",
    "else: #This is how the stratified train/valid split was created.\n",
    "    data_og = get_data(data_names)\n",
    "\n",
    "    can_shoot_features, cs_feat_valid, can_shoot_labels, cs_labels_valid = train_test_split(data_og.drop(columns=\"Success\"), data_og[\"Success\"], test_size=0.33, random_state=3, stratify=data_og[\"Success\"])\n",
    "\n",
    "    printCount(can_shoot_labels)\n",
    "    printCount(cs_labels_valid)\n",
    "\n",
    "    can_shoot_features = tf.convert_to_tensor(can_shoot_features, dtype=tf.float32) \n",
    "    can_shoot_labels = tf.convert_to_tensor(can_shoot_labels, dtype=tf.float32)  \n",
    "\n",
    "    cs_feat_valid = tf.convert_to_tensor(cs_feat_valid, dtype=tf.float32) \n",
    "    cs_labels_valid = tf.convert_to_tensor(cs_labels_valid, dtype=tf.float32) "
   ]
  },
  {
   "cell_type": "code",
   "execution_count": 3,
   "id": "a726705d",
   "metadata": {},
   "outputs": [],
   "source": [
    "\"\"\"Write dataframe back to csv after processing data\"\"\"\n",
    "def writeToCSV(features, labels, name):\n",
    "    to_csv_var = pd.DataFrame(tf.concat([features, tf.expand_dims(labels, axis=1)], axis=1).numpy(),\n",
    "                                       columns=[\"Angle\",  \"DistanceToGoal\", \"DistanceToOpp\",  \"OppX\", \"OppY\",\"Success\"])\n",
    "    to_csv_var[\"Success\"] = to_csv_var[\"Success\"]==1\n",
    "    to_csv_var.to_csv(name, index=False)\n",
    "    \n",
    "# writeToCSV(can_shoot_features, can_shoot_labels, \"TrainFinal.csv\" )\n",
    "# writeToCSV(cs_feat_valid, cs_labels_valid, \"ValidFinal.csv\" )"
   ]
  },
  {
   "cell_type": "markdown",
   "id": "908e969a",
   "metadata": {},
   "source": [
    "# Train Model loop"
   ]
  },
  {
   "cell_type": "code",
   "execution_count": 4,
   "id": "34f4aeb4",
   "metadata": {
    "scrolled": true
   },
   "outputs": [
    {
     "name": "stdout",
     "output_type": "stream",
     "text": [
      "Model: \"sequential\"\n",
      "_________________________________________________________________\n",
      " Layer (type)                Output Shape              Param #   \n",
      "=================================================================\n",
      " batch_normalization (BatchN  (None, 5)                20        \n",
      " ormalization)                                                   \n",
      "                                                                 \n",
      " dense (Dense)               (None, 6)                 36        \n",
      "                                                                 \n",
      " batch_normalization_1 (Batc  (None, 6)                24        \n",
      " hNormalization)                                                 \n",
      "                                                                 \n",
      " dense_1 (Dense)             (None, 3)                 21        \n",
      "                                                                 \n",
      " dense_2 (Dense)             (None, 1)                 4         \n",
      "                                                                 \n",
      "=================================================================\n",
      "Total params: 105\n",
      "Trainable params: 83\n",
      "Non-trainable params: 22\n",
      "_________________________________________________________________\n",
      "Epoch 1/64\n",
      "23/23 [==============================] - 2s 25ms/step - loss: 0.5217 - binary_accuracy: 0.7906 - recall: 0.5135 - precision: 0.7215 - val_loss: 0.6254 - val_binary_accuracy: 0.6983 - val_recall: 0.0000e+00 - val_precision: 0.0000e+00 - lr: 0.0500\n",
      "Epoch 2/64\n",
      "23/23 [==============================] - 0s 12ms/step - loss: 0.4419 - binary_accuracy: 0.7851 - recall: 0.5135 - precision: 0.7037 - val_loss: 0.6934 - val_binary_accuracy: 0.6983 - val_recall: 0.0000e+00 - val_precision: 0.0000e+00 - lr: 0.0500\n",
      "Epoch 3/64\n",
      "23/23 [==============================] - 0s 15ms/step - loss: 0.4108 - binary_accuracy: 0.8209 - recall: 0.6306 - precision: 0.7447 - val_loss: 0.7319 - val_binary_accuracy: 0.6983 - val_recall: 0.0000e+00 - val_precision: 0.0000e+00 - lr: 0.0500\n",
      "Epoch 4/64\n",
      "23/23 [==============================] - 0s 16ms/step - loss: 0.4030 - binary_accuracy: 0.8264 - recall: 0.5766 - precision: 0.8000 - val_loss: 0.8205 - val_binary_accuracy: 0.6983 - val_recall: 0.0000e+00 - val_precision: 0.0000e+00 - lr: 0.0500\n",
      "Epoch 5/64\n",
      "23/23 [==============================] - 0s 18ms/step - loss: 0.3952 - binary_accuracy: 0.7934 - recall: 0.5946 - precision: 0.6875 - val_loss: 0.4253 - val_binary_accuracy: 0.7989 - val_recall: 0.4074 - val_precision: 0.8462 - lr: 0.0500\n",
      "Epoch 6/64\n",
      "23/23 [==============================] - 0s 17ms/step - loss: 0.3918 - binary_accuracy: 0.8237 - recall: 0.6757 - precision: 0.7282 - val_loss: 0.5811 - val_binary_accuracy: 0.6983 - val_recall: 0.0000e+00 - val_precision: 0.0000e+00 - lr: 0.0500\n",
      "Epoch 7/64\n",
      "23/23 [==============================] - 0s 18ms/step - loss: 0.3685 - binary_accuracy: 0.8347 - recall: 0.6757 - precision: 0.7576 - val_loss: 0.4296 - val_binary_accuracy: 0.7542 - val_recall: 0.2037 - val_precision: 0.9167 - lr: 0.0500\n",
      "Epoch 8/64\n",
      "23/23 [==============================] - 0s 18ms/step - loss: 0.4269 - binary_accuracy: 0.7879 - recall: 0.5586 - precision: 0.6889 - val_loss: 0.4146 - val_binary_accuracy: 0.8492 - val_recall: 0.7407 - val_precision: 0.7547 - lr: 0.0500\n",
      "Epoch 9/64\n",
      "23/23 [==============================] - 0s 17ms/step - loss: 0.3870 - binary_accuracy: 0.8182 - recall: 0.6306 - precision: 0.7368 - val_loss: 0.4762 - val_binary_accuracy: 0.7374 - val_recall: 0.1667 - val_precision: 0.8182 - lr: 0.0500\n",
      "Epoch 10/64\n",
      "23/23 [==============================] - 0s 17ms/step - loss: 0.3783 - binary_accuracy: 0.8044 - recall: 0.5766 - precision: 0.7273 - val_loss: 0.3890 - val_binary_accuracy: 0.8547 - val_recall: 0.5926 - val_precision: 0.8889 - lr: 0.0500\n",
      "Epoch 11/64\n",
      "23/23 [==============================] - 0s 16ms/step - loss: 0.3516 - binary_accuracy: 0.8375 - recall: 0.6757 - precision: 0.7653 - val_loss: 0.4154 - val_binary_accuracy: 0.7989 - val_recall: 0.4259 - val_precision: 0.8214 - lr: 0.0500\n",
      "Epoch 12/64\n",
      "23/23 [==============================] - 0s 16ms/step - loss: 0.3819 - binary_accuracy: 0.8099 - recall: 0.6577 - precision: 0.7019 - val_loss: 0.3907 - val_binary_accuracy: 0.8603 - val_recall: 0.8148 - val_precision: 0.7458 - lr: 0.0500\n",
      "Epoch 13/64\n",
      "23/23 [==============================] - 0s 15ms/step - loss: 0.3669 - binary_accuracy: 0.8237 - recall: 0.6486 - precision: 0.7423 - val_loss: 0.3753 - val_binary_accuracy: 0.8659 - val_recall: 0.8333 - val_precision: 0.7500 - lr: 0.0500\n",
      "Epoch 14/64\n",
      "23/23 [==============================] - ETA: 0s - loss: 0.3450 - binary_accuracy: 0.8571 - recall: 0.7961 - precision: 0.75 - 0s 16ms/step - loss: 0.3312 - binary_accuracy: 0.8678 - recall: 0.8108 - precision: 0.7692 - val_loss: 0.4318 - val_binary_accuracy: 0.7598 - val_recall: 0.2407 - val_precision: 0.8667 - lr: 0.0500\n",
      "Epoch 15/64\n",
      "23/23 [==============================] - 0s 17ms/step - loss: 0.3887 - binary_accuracy: 0.8099 - recall: 0.5586 - precision: 0.7561 - val_loss: 0.3867 - val_binary_accuracy: 0.8492 - val_recall: 0.7778 - val_precision: 0.7368 - lr: 0.0500\n",
      "Epoch 16/64\n",
      "23/23 [==============================] - 0s 18ms/step - loss: 0.3615 - binary_accuracy: 0.8237 - recall: 0.6847 - precision: 0.7238 - val_loss: 0.3542 - val_binary_accuracy: 0.8771 - val_recall: 0.6852 - val_precision: 0.8810 - lr: 0.0500\n",
      "Epoch 17/64\n",
      "23/23 [==============================] - 0s 18ms/step - loss: 0.3823 - binary_accuracy: 0.8127 - recall: 0.6396 - precision: 0.7172 - val_loss: 0.3830 - val_binary_accuracy: 0.8492 - val_recall: 0.6111 - val_precision: 0.8462 - lr: 0.0500\n",
      "Epoch 18/64\n",
      "23/23 [==============================] - 0s 18ms/step - loss: 0.4005 - binary_accuracy: 0.8182 - recall: 0.6126 - precision: 0.7473 - val_loss: 0.4337 - val_binary_accuracy: 0.7430 - val_recall: 0.1852 - val_precision: 0.8333 - lr: 0.0500\n",
      "Epoch 19/64\n",
      "23/23 [==============================] - 0s 17ms/step - loss: 0.3594 - binary_accuracy: 0.8154 - recall: 0.6667 - precision: 0.7115 - val_loss: 0.4164 - val_binary_accuracy: 0.7989 - val_recall: 0.4444 - val_precision: 0.8000 - lr: 0.0500\n",
      "Epoch 20/64\n",
      "23/23 [==============================] - 0s 19ms/step - loss: 0.3508 - binary_accuracy: 0.8457 - recall: 0.7117 - precision: 0.7670 - val_loss: 0.3326 - val_binary_accuracy: 0.8659 - val_recall: 0.6296 - val_precision: 0.8947 - lr: 0.0500\n",
      "Epoch 21/64\n",
      "23/23 [==============================] - 0s 19ms/step - loss: 0.3390 - binary_accuracy: 0.8595 - recall: 0.7387 - precision: 0.7885 - val_loss: 0.4126 - val_binary_accuracy: 0.8212 - val_recall: 0.5370 - val_precision: 0.8056 - lr: 0.0500\n",
      "Epoch 22/64\n",
      "23/23 [==============================] - 0s 18ms/step - loss: 0.3539 - binary_accuracy: 0.8512 - recall: 0.7207 - precision: 0.7767 - val_loss: 0.3407 - val_binary_accuracy: 0.8603 - val_recall: 0.5741 - val_precision: 0.9394 - lr: 0.0500\n",
      "Epoch 23/64\n",
      "23/23 [==============================] - 0s 20ms/step - loss: 0.4302 - binary_accuracy: 0.7851 - recall: 0.6306 - precision: 0.6542 - val_loss: 0.5610 - val_binary_accuracy: 0.7263 - val_recall: 0.0926 - val_precision: 1.0000 - lr: 0.0500\n",
      "Epoch 24/64\n",
      "23/23 [==============================] - 0s 20ms/step - loss: 0.4268 - binary_accuracy: 0.8209 - recall: 0.6667 - precision: 0.7255 - val_loss: 0.5504 - val_binary_accuracy: 0.7430 - val_recall: 0.1667 - val_precision: 0.9000 - lr: 0.0500\n",
      "Epoch 25/64\n",
      "23/23 [==============================] - 0s 16ms/step - loss: 0.3723 - binary_accuracy: 0.8457 - recall: 0.5856 - precision: 0.8667 - val_loss: 0.3419 - val_binary_accuracy: 0.8547 - val_recall: 0.7222 - val_precision: 0.7800 - lr: 0.0500\n",
      "Epoch 26/64\n",
      "23/23 [==============================] - 0s 15ms/step - loss: 0.3650 - binary_accuracy: 0.8430 - recall: 0.6667 - precision: 0.7872 - val_loss: 0.3531 - val_binary_accuracy: 0.8715 - val_recall: 0.8148 - val_precision: 0.7719 - lr: 0.0500\n",
      "Epoch 27/64\n",
      "23/23 [==============================] - 0s 17ms/step - loss: 0.3522 - binary_accuracy: 0.8567 - recall: 0.7748 - precision: 0.7611 - val_loss: 0.4664 - val_binary_accuracy: 0.7542 - val_recall: 0.2037 - val_precision: 0.9167 - lr: 0.0500\n",
      "Epoch 28/64\n",
      "23/23 [==============================] - 0s 17ms/step - loss: 0.3871 - binary_accuracy: 0.8154 - recall: 0.6216 - precision: 0.7340 - val_loss: 0.3846 - val_binary_accuracy: 0.8324 - val_recall: 0.5000 - val_precision: 0.9000 - lr: 0.0500\n",
      "Epoch 29/64\n",
      "23/23 [==============================] - 0s 16ms/step - loss: 0.3321 - binary_accuracy: 0.8540 - recall: 0.6937 - precision: 0.8021 - val_loss: 0.3583 - val_binary_accuracy: 0.8492 - val_recall: 0.7037 - val_precision: 0.7755 - lr: 0.0500\n",
      "Epoch 30/64\n",
      "16/23 [===================>..........] - ETA: 0s - loss: 0.4127 - binary_accuracy: 0.8242 - recall: 0.7024 - precision: 0.7468"
     ]
    },
    {
     "ename": "KeyboardInterrupt",
     "evalue": "",
     "output_type": "error",
     "traceback": [
      "\u001b[1;31m---------------------------------------------------------------------------\u001b[0m",
      "\u001b[1;31mKeyboardInterrupt\u001b[0m                         Traceback (most recent call last)",
      "\u001b[1;32m<ipython-input-4-3bf5f7aa3fb3>\u001b[0m in \u001b[0;36m<module>\u001b[1;34m\u001b[0m\n\u001b[0;32m     32\u001b[0m     \u001b[0mepochs\u001b[0m \u001b[1;33m=\u001b[0m \u001b[1;36m64\u001b[0m\u001b[1;33m,\u001b[0m\u001b[1;33m\u001b[0m\u001b[1;33m\u001b[0m\u001b[0m\n\u001b[0;32m     33\u001b[0m     \u001b[0mvalidation_data\u001b[0m\u001b[1;33m=\u001b[0m \u001b[1;33m(\u001b[0m\u001b[0mcs_feat_valid\u001b[0m\u001b[1;33m,\u001b[0m \u001b[0mcs_labels_valid\u001b[0m \u001b[1;33m)\u001b[0m\u001b[1;33m,\u001b[0m\u001b[1;33m\u001b[0m\u001b[1;33m\u001b[0m\u001b[0m\n\u001b[1;32m---> 34\u001b[1;33m     \u001b[0mcallbacks\u001b[0m\u001b[1;33m=\u001b[0m\u001b[1;33m[\u001b[0m\u001b[0mreduce_lr\u001b[0m\u001b[1;33m]\u001b[0m\u001b[1;33m\u001b[0m\u001b[1;33m\u001b[0m\u001b[0m\n\u001b[0m\u001b[0;32m     35\u001b[0m )\n\u001b[0;32m     36\u001b[0m \u001b[1;33m\u001b[0m\u001b[0m\n",
      "\u001b[1;32m~\\.conda\\envs\\deeplearning\\lib\\site-packages\\keras\\utils\\traceback_utils.py\u001b[0m in \u001b[0;36merror_handler\u001b[1;34m(*args, **kwargs)\u001b[0m\n\u001b[0;32m     62\u001b[0m     \u001b[0mfiltered_tb\u001b[0m \u001b[1;33m=\u001b[0m \u001b[1;32mNone\u001b[0m\u001b[1;33m\u001b[0m\u001b[1;33m\u001b[0m\u001b[0m\n\u001b[0;32m     63\u001b[0m     \u001b[1;32mtry\u001b[0m\u001b[1;33m:\u001b[0m\u001b[1;33m\u001b[0m\u001b[1;33m\u001b[0m\u001b[0m\n\u001b[1;32m---> 64\u001b[1;33m       \u001b[1;32mreturn\u001b[0m \u001b[0mfn\u001b[0m\u001b[1;33m(\u001b[0m\u001b[1;33m*\u001b[0m\u001b[0margs\u001b[0m\u001b[1;33m,\u001b[0m \u001b[1;33m**\u001b[0m\u001b[0mkwargs\u001b[0m\u001b[1;33m)\u001b[0m\u001b[1;33m\u001b[0m\u001b[1;33m\u001b[0m\u001b[0m\n\u001b[0m\u001b[0;32m     65\u001b[0m     \u001b[1;32mexcept\u001b[0m \u001b[0mException\u001b[0m \u001b[1;32mas\u001b[0m \u001b[0me\u001b[0m\u001b[1;33m:\u001b[0m  \u001b[1;31m# pylint: disable=broad-except\u001b[0m\u001b[1;33m\u001b[0m\u001b[1;33m\u001b[0m\u001b[0m\n\u001b[0;32m     66\u001b[0m       \u001b[0mfiltered_tb\u001b[0m \u001b[1;33m=\u001b[0m \u001b[0m_process_traceback_frames\u001b[0m\u001b[1;33m(\u001b[0m\u001b[0me\u001b[0m\u001b[1;33m.\u001b[0m\u001b[0m__traceback__\u001b[0m\u001b[1;33m)\u001b[0m\u001b[1;33m\u001b[0m\u001b[1;33m\u001b[0m\u001b[0m\n",
      "\u001b[1;32m~\\.conda\\envs\\deeplearning\\lib\\site-packages\\keras\\engine\\training.py\u001b[0m in \u001b[0;36mfit\u001b[1;34m(self, x, y, batch_size, epochs, verbose, callbacks, validation_split, validation_data, shuffle, class_weight, sample_weight, initial_epoch, steps_per_epoch, validation_steps, validation_batch_size, validation_freq, max_queue_size, workers, use_multiprocessing)\u001b[0m\n\u001b[0;32m   1214\u001b[0m                 _r=1):\n\u001b[0;32m   1215\u001b[0m               \u001b[0mcallbacks\u001b[0m\u001b[1;33m.\u001b[0m\u001b[0mon_train_batch_begin\u001b[0m\u001b[1;33m(\u001b[0m\u001b[0mstep\u001b[0m\u001b[1;33m)\u001b[0m\u001b[1;33m\u001b[0m\u001b[1;33m\u001b[0m\u001b[0m\n\u001b[1;32m-> 1216\u001b[1;33m               \u001b[0mtmp_logs\u001b[0m \u001b[1;33m=\u001b[0m \u001b[0mself\u001b[0m\u001b[1;33m.\u001b[0m\u001b[0mtrain_function\u001b[0m\u001b[1;33m(\u001b[0m\u001b[0miterator\u001b[0m\u001b[1;33m)\u001b[0m\u001b[1;33m\u001b[0m\u001b[1;33m\u001b[0m\u001b[0m\n\u001b[0m\u001b[0;32m   1217\u001b[0m               \u001b[1;32mif\u001b[0m \u001b[0mdata_handler\u001b[0m\u001b[1;33m.\u001b[0m\u001b[0mshould_sync\u001b[0m\u001b[1;33m:\u001b[0m\u001b[1;33m\u001b[0m\u001b[1;33m\u001b[0m\u001b[0m\n\u001b[0;32m   1218\u001b[0m                 \u001b[0mcontext\u001b[0m\u001b[1;33m.\u001b[0m\u001b[0masync_wait\u001b[0m\u001b[1;33m(\u001b[0m\u001b[1;33m)\u001b[0m\u001b[1;33m\u001b[0m\u001b[1;33m\u001b[0m\u001b[0m\n",
      "\u001b[1;32m~\\.conda\\envs\\deeplearning\\lib\\site-packages\\tensorflow\\python\\util\\traceback_utils.py\u001b[0m in \u001b[0;36merror_handler\u001b[1;34m(*args, **kwargs)\u001b[0m\n\u001b[0;32m    148\u001b[0m     \u001b[0mfiltered_tb\u001b[0m \u001b[1;33m=\u001b[0m \u001b[1;32mNone\u001b[0m\u001b[1;33m\u001b[0m\u001b[1;33m\u001b[0m\u001b[0m\n\u001b[0;32m    149\u001b[0m     \u001b[1;32mtry\u001b[0m\u001b[1;33m:\u001b[0m\u001b[1;33m\u001b[0m\u001b[1;33m\u001b[0m\u001b[0m\n\u001b[1;32m--> 150\u001b[1;33m       \u001b[1;32mreturn\u001b[0m \u001b[0mfn\u001b[0m\u001b[1;33m(\u001b[0m\u001b[1;33m*\u001b[0m\u001b[0margs\u001b[0m\u001b[1;33m,\u001b[0m \u001b[1;33m**\u001b[0m\u001b[0mkwargs\u001b[0m\u001b[1;33m)\u001b[0m\u001b[1;33m\u001b[0m\u001b[1;33m\u001b[0m\u001b[0m\n\u001b[0m\u001b[0;32m    151\u001b[0m     \u001b[1;32mexcept\u001b[0m \u001b[0mException\u001b[0m \u001b[1;32mas\u001b[0m \u001b[0me\u001b[0m\u001b[1;33m:\u001b[0m\u001b[1;33m\u001b[0m\u001b[1;33m\u001b[0m\u001b[0m\n\u001b[0;32m    152\u001b[0m       \u001b[0mfiltered_tb\u001b[0m \u001b[1;33m=\u001b[0m \u001b[0m_process_traceback_frames\u001b[0m\u001b[1;33m(\u001b[0m\u001b[0me\u001b[0m\u001b[1;33m.\u001b[0m\u001b[0m__traceback__\u001b[0m\u001b[1;33m)\u001b[0m\u001b[1;33m\u001b[0m\u001b[1;33m\u001b[0m\u001b[0m\n",
      "\u001b[1;32m~\\.conda\\envs\\deeplearning\\lib\\site-packages\\tensorflow\\python\\eager\\def_function.py\u001b[0m in \u001b[0;36m__call__\u001b[1;34m(self, *args, **kwds)\u001b[0m\n\u001b[0;32m    908\u001b[0m \u001b[1;33m\u001b[0m\u001b[0m\n\u001b[0;32m    909\u001b[0m       \u001b[1;32mwith\u001b[0m \u001b[0mOptionalXlaContext\u001b[0m\u001b[1;33m(\u001b[0m\u001b[0mself\u001b[0m\u001b[1;33m.\u001b[0m\u001b[0m_jit_compile\u001b[0m\u001b[1;33m)\u001b[0m\u001b[1;33m:\u001b[0m\u001b[1;33m\u001b[0m\u001b[1;33m\u001b[0m\u001b[0m\n\u001b[1;32m--> 910\u001b[1;33m         \u001b[0mresult\u001b[0m \u001b[1;33m=\u001b[0m \u001b[0mself\u001b[0m\u001b[1;33m.\u001b[0m\u001b[0m_call\u001b[0m\u001b[1;33m(\u001b[0m\u001b[1;33m*\u001b[0m\u001b[0margs\u001b[0m\u001b[1;33m,\u001b[0m \u001b[1;33m**\u001b[0m\u001b[0mkwds\u001b[0m\u001b[1;33m)\u001b[0m\u001b[1;33m\u001b[0m\u001b[1;33m\u001b[0m\u001b[0m\n\u001b[0m\u001b[0;32m    911\u001b[0m \u001b[1;33m\u001b[0m\u001b[0m\n\u001b[0;32m    912\u001b[0m       \u001b[0mnew_tracing_count\u001b[0m \u001b[1;33m=\u001b[0m \u001b[0mself\u001b[0m\u001b[1;33m.\u001b[0m\u001b[0mexperimental_get_tracing_count\u001b[0m\u001b[1;33m(\u001b[0m\u001b[1;33m)\u001b[0m\u001b[1;33m\u001b[0m\u001b[1;33m\u001b[0m\u001b[0m\n",
      "\u001b[1;32m~\\.conda\\envs\\deeplearning\\lib\\site-packages\\tensorflow\\python\\eager\\def_function.py\u001b[0m in \u001b[0;36m_call\u001b[1;34m(self, *args, **kwds)\u001b[0m\n\u001b[0;32m    940\u001b[0m       \u001b[1;31m# In this case we have created variables on the first call, so we run the\u001b[0m\u001b[1;33m\u001b[0m\u001b[1;33m\u001b[0m\u001b[1;33m\u001b[0m\u001b[0m\n\u001b[0;32m    941\u001b[0m       \u001b[1;31m# defunned version which is guaranteed to never create variables.\u001b[0m\u001b[1;33m\u001b[0m\u001b[1;33m\u001b[0m\u001b[1;33m\u001b[0m\u001b[0m\n\u001b[1;32m--> 942\u001b[1;33m       \u001b[1;32mreturn\u001b[0m \u001b[0mself\u001b[0m\u001b[1;33m.\u001b[0m\u001b[0m_stateless_fn\u001b[0m\u001b[1;33m(\u001b[0m\u001b[1;33m*\u001b[0m\u001b[0margs\u001b[0m\u001b[1;33m,\u001b[0m \u001b[1;33m**\u001b[0m\u001b[0mkwds\u001b[0m\u001b[1;33m)\u001b[0m  \u001b[1;31m# pylint: disable=not-callable\u001b[0m\u001b[1;33m\u001b[0m\u001b[1;33m\u001b[0m\u001b[0m\n\u001b[0m\u001b[0;32m    943\u001b[0m     \u001b[1;32melif\u001b[0m \u001b[0mself\u001b[0m\u001b[1;33m.\u001b[0m\u001b[0m_stateful_fn\u001b[0m \u001b[1;32mis\u001b[0m \u001b[1;32mnot\u001b[0m \u001b[1;32mNone\u001b[0m\u001b[1;33m:\u001b[0m\u001b[1;33m\u001b[0m\u001b[1;33m\u001b[0m\u001b[0m\n\u001b[0;32m    944\u001b[0m       \u001b[1;31m# Release the lock early so that multiple threads can perform the call\u001b[0m\u001b[1;33m\u001b[0m\u001b[1;33m\u001b[0m\u001b[1;33m\u001b[0m\u001b[0m\n",
      "\u001b[1;32m~\\.conda\\envs\\deeplearning\\lib\\site-packages\\tensorflow\\python\\eager\\function.py\u001b[0m in \u001b[0;36m__call__\u001b[1;34m(self, *args, **kwargs)\u001b[0m\n\u001b[0;32m   3129\u001b[0m        filtered_flat_args) = self._maybe_define_function(args, kwargs)\n\u001b[0;32m   3130\u001b[0m     return graph_function._call_flat(\n\u001b[1;32m-> 3131\u001b[1;33m         filtered_flat_args, captured_inputs=graph_function.captured_inputs)  # pylint: disable=protected-access\n\u001b[0m\u001b[0;32m   3132\u001b[0m \u001b[1;33m\u001b[0m\u001b[0m\n\u001b[0;32m   3133\u001b[0m   \u001b[1;33m@\u001b[0m\u001b[0mproperty\u001b[0m\u001b[1;33m\u001b[0m\u001b[1;33m\u001b[0m\u001b[0m\n",
      "\u001b[1;32m~\\.conda\\envs\\deeplearning\\lib\\site-packages\\tensorflow\\python\\eager\\function.py\u001b[0m in \u001b[0;36m_call_flat\u001b[1;34m(self, args, captured_inputs, cancellation_manager)\u001b[0m\n\u001b[0;32m   1958\u001b[0m       \u001b[1;31m# No tape is watching; skip to running the function.\u001b[0m\u001b[1;33m\u001b[0m\u001b[1;33m\u001b[0m\u001b[1;33m\u001b[0m\u001b[0m\n\u001b[0;32m   1959\u001b[0m       return self._build_call_outputs(self._inference_function.call(\n\u001b[1;32m-> 1960\u001b[1;33m           ctx, args, cancellation_manager=cancellation_manager))\n\u001b[0m\u001b[0;32m   1961\u001b[0m     forward_backward = self._select_forward_and_backward_functions(\n\u001b[0;32m   1962\u001b[0m         \u001b[0margs\u001b[0m\u001b[1;33m,\u001b[0m\u001b[1;33m\u001b[0m\u001b[1;33m\u001b[0m\u001b[0m\n",
      "\u001b[1;32m~\\.conda\\envs\\deeplearning\\lib\\site-packages\\tensorflow\\python\\eager\\function.py\u001b[0m in \u001b[0;36mcall\u001b[1;34m(self, ctx, args, cancellation_manager)\u001b[0m\n\u001b[0;32m    601\u001b[0m               \u001b[0minputs\u001b[0m\u001b[1;33m=\u001b[0m\u001b[0margs\u001b[0m\u001b[1;33m,\u001b[0m\u001b[1;33m\u001b[0m\u001b[1;33m\u001b[0m\u001b[0m\n\u001b[0;32m    602\u001b[0m               \u001b[0mattrs\u001b[0m\u001b[1;33m=\u001b[0m\u001b[0mattrs\u001b[0m\u001b[1;33m,\u001b[0m\u001b[1;33m\u001b[0m\u001b[1;33m\u001b[0m\u001b[0m\n\u001b[1;32m--> 603\u001b[1;33m               ctx=ctx)\n\u001b[0m\u001b[0;32m    604\u001b[0m         \u001b[1;32melse\u001b[0m\u001b[1;33m:\u001b[0m\u001b[1;33m\u001b[0m\u001b[1;33m\u001b[0m\u001b[0m\n\u001b[0;32m    605\u001b[0m           outputs = execute.execute_with_cancellation(\n",
      "\u001b[1;32m~\\.conda\\envs\\deeplearning\\lib\\site-packages\\tensorflow\\python\\eager\\execute.py\u001b[0m in \u001b[0;36mquick_execute\u001b[1;34m(op_name, num_outputs, inputs, attrs, ctx, name)\u001b[0m\n\u001b[0;32m     57\u001b[0m     \u001b[0mctx\u001b[0m\u001b[1;33m.\u001b[0m\u001b[0mensure_initialized\u001b[0m\u001b[1;33m(\u001b[0m\u001b[1;33m)\u001b[0m\u001b[1;33m\u001b[0m\u001b[1;33m\u001b[0m\u001b[0m\n\u001b[0;32m     58\u001b[0m     tensors = pywrap_tfe.TFE_Py_Execute(ctx._handle, device_name, op_name,\n\u001b[1;32m---> 59\u001b[1;33m                                         inputs, attrs, num_outputs)\n\u001b[0m\u001b[0;32m     60\u001b[0m   \u001b[1;32mexcept\u001b[0m \u001b[0mcore\u001b[0m\u001b[1;33m.\u001b[0m\u001b[0m_NotOkStatusException\u001b[0m \u001b[1;32mas\u001b[0m \u001b[0me\u001b[0m\u001b[1;33m:\u001b[0m\u001b[1;33m\u001b[0m\u001b[1;33m\u001b[0m\u001b[0m\n\u001b[0;32m     61\u001b[0m     \u001b[1;32mif\u001b[0m \u001b[0mname\u001b[0m \u001b[1;32mis\u001b[0m \u001b[1;32mnot\u001b[0m \u001b[1;32mNone\u001b[0m\u001b[1;33m:\u001b[0m\u001b[1;33m\u001b[0m\u001b[1;33m\u001b[0m\u001b[0m\n",
      "\u001b[1;31mKeyboardInterrupt\u001b[0m: "
     ]
    }
   ],
   "source": [
    "tf.keras.backend.clear_session()\n",
    "\n",
    "num_feats = can_shoot_features.shape[1]\n",
    "\n",
    "model = tf.keras.models.Sequential([\n",
    "  tf.keras.layers.BatchNormalization(input_dim=num_feats),\n",
    "  tf.keras.layers.Dense(6, activation='relu'),\n",
    " \n",
    "  tf.keras.layers.BatchNormalization(),\n",
    "  tf.keras.layers.Dense(3, activation='swish'),\n",
    "\n",
    "  tf.keras.layers.Dense(1, activation='sigmoid') \n",
    "])\n",
    "\n",
    "model.compile(\n",
    "    optimizer=tf.keras.optimizers.Adam(0.05),\n",
    "    loss=tf.keras.losses.BinaryCrossentropy(from_logits=False),\n",
    "    metrics=[tf.keras.metrics.BinaryAccuracy(), tf.keras.metrics.Recall(), tf.keras.metrics.Precision()], \n",
    ")\n",
    "\n",
    "model.summary()\n",
    "\n",
    "from keras.callbacks import ReduceLROnPlateau\n",
    "reduce_lr = ReduceLROnPlateau(monitor='val_loss', factor=0.5,\n",
    "                              patience=75, min_lr=0.001)\n",
    "\n",
    "\n",
    "model.fit(\n",
    "    can_shoot_features,\n",
    "    can_shoot_labels,\n",
    "    batch_size=16,\n",
    "    epochs = 64,   \n",
    "    validation_data= (cs_feat_valid, cs_labels_valid ),\n",
    "    callbacks=[reduce_lr] \n",
    ")\n",
    "\n",
    "\n",
    "#add early stopping\n",
    "early_stop= tf.keras.callbacks.EarlyStopping(\n",
    "    monitor='val_loss', min_delta=0, patience=50, verbose=0,\n",
    "    mode='min', baseline=None, restore_best_weights=True\n",
    ")\n",
    "\n",
    "model.fit(\n",
    "    can_shoot_features,\n",
    "    can_shoot_labels,\n",
    "    batch_size=16,\n",
    "    epochs = 512,   \n",
    "    validation_data= (cs_feat_valid, cs_labels_valid ),\n",
    "    callbacks=[reduce_lr, early_stop] \n",
    ")\n",
    "\n"
   ]
  },
  {
   "cell_type": "markdown",
   "id": "2a4dcc1f",
   "metadata": {},
   "source": [
    "# Summary of Trained Model"
   ]
  },
  {
   "cell_type": "code",
   "execution_count": 4,
   "id": "8b7ae2f6",
   "metadata": {},
   "outputs": [],
   "source": [
    "def getAcc_Rec_Prec(conf_mat):\n",
    "    accuracy = (conf_mat[0,0]+conf_mat[1,1])/np.sum(conf_mat)\n",
    "\n",
    "    recall = conf_mat[1,1]/sum(conf_mat[1,:])\n",
    "\n",
    "    precision = conf_mat[1,1]/sum(conf_mat[:,1])\n",
    "    \n",
    "    return accuracy, recall, precision\n",
    "\n",
    "def getPosNeg(prediction, actual):\n",
    "    tp,fp,tn,fn = 0,0,0,0\n",
    "    for i in range(len(prediction)):\n",
    "        if(np.round(prediction[i]) == 1):\n",
    "            if(np.round(prediction[i]) == actual[i]):\n",
    "                tp+=1\n",
    "            else:\n",
    "                fp+=1\n",
    "        else:\n",
    "            if(np.round(prediction[i]) == actual[i]):\n",
    "                tn+=1\n",
    "            else:\n",
    "                fn+=1\n",
    "    return tp,fp,tn,fn\n",
    "            "
   ]
  },
  {
   "cell_type": "code",
   "execution_count": 5,
   "id": "14327ff2",
   "metadata": {
    "scrolled": true
   },
   "outputs": [
    {
     "ename": "NameError",
     "evalue": "name 'model' is not defined",
     "output_type": "error",
     "traceback": [
      "\u001b[1;31m---------------------------------------------------------------------------\u001b[0m",
      "\u001b[1;31mNameError\u001b[0m                                 Traceback (most recent call last)",
      "\u001b[1;32m<ipython-input-5-5e24872c62e7>\u001b[0m in \u001b[0;36m<module>\u001b[1;34m\u001b[0m\n\u001b[1;32m----> 1\u001b[1;33m \u001b[0mresults\u001b[0m \u001b[1;33m=\u001b[0m \u001b[0mmodel\u001b[0m\u001b[1;33m.\u001b[0m\u001b[0mevaluate\u001b[0m\u001b[1;33m(\u001b[0m\u001b[0mcan_shoot_features\u001b[0m\u001b[1;33m,\u001b[0m \u001b[0mcan_shoot_labels\u001b[0m\u001b[1;33m)\u001b[0m\u001b[1;33m\u001b[0m\u001b[1;33m\u001b[0m\u001b[0m\n\u001b[0m\u001b[0;32m      2\u001b[0m \u001b[0mprint\u001b[0m\u001b[1;33m(\u001b[0m\u001b[1;34m\"Final train_ loss, train_acc:\"\u001b[0m\u001b[1;33m,\u001b[0m \u001b[0mresults\u001b[0m\u001b[1;33m)\u001b[0m\u001b[1;33m\u001b[0m\u001b[1;33m\u001b[0m\u001b[0m\n\u001b[0;32m      3\u001b[0m \u001b[1;33m\u001b[0m\u001b[0m\n\u001b[0;32m      4\u001b[0m \u001b[0mresults\u001b[0m \u001b[1;33m=\u001b[0m \u001b[0mmodel\u001b[0m\u001b[1;33m.\u001b[0m\u001b[0mevaluate\u001b[0m\u001b[1;33m(\u001b[0m\u001b[0mcs_feat_valid\u001b[0m\u001b[1;33m,\u001b[0m \u001b[0mcs_labels_valid\u001b[0m\u001b[1;33m)\u001b[0m\u001b[1;33m\u001b[0m\u001b[1;33m\u001b[0m\u001b[0m\n\u001b[0;32m      5\u001b[0m \u001b[0mprint\u001b[0m\u001b[1;33m(\u001b[0m\u001b[1;34m\"Final val_ loss, val_acc:\"\u001b[0m\u001b[1;33m,\u001b[0m \u001b[0mresults\u001b[0m\u001b[1;33m)\u001b[0m\u001b[1;33m\u001b[0m\u001b[1;33m\u001b[0m\u001b[0m\n",
      "\u001b[1;31mNameError\u001b[0m: name 'model' is not defined"
     ]
    }
   ],
   "source": [
    "results = model.evaluate(can_shoot_features, can_shoot_labels)\n",
    "print(\"Final train_ loss, train_acc:\", results)\n",
    "\n",
    "results = model.evaluate(cs_feat_valid, cs_labels_valid)\n",
    "print(\"Final val_ loss, val_acc:\", results)\n",
    "\n",
    "out=model.predict(cs_feat_valid)\n",
    "# out = tf.squeeze(out)\n",
    "\n",
    "conf_mat = tf.math.confusion_matrix(cs_labels_valid, np.round(out))\n",
    "print(conf_mat)"
   ]
  },
  {
   "cell_type": "markdown",
   "id": "366fe8f2",
   "metadata": {},
   "source": [
    "# Logistic Regression Results"
   ]
  },
  {
   "cell_type": "code",
   "execution_count": 6,
   "id": "0612a03b",
   "metadata": {},
   "outputs": [
    {
     "name": "stdout",
     "output_type": "stream",
     "text": [
      "LogisticRegression_Accuracy:  0.8715083798882681\n",
      "LogisticRegression_Recall:  0.7592592592592593\n",
      "LogisticRegression_Precision:  0.803921568627451\n"
     ]
    }
   ],
   "source": [
    "from sklearn.linear_model import LogisticRegression\n",
    "from sklearn.metrics import classification_report, confusion_matrix\n",
    "\n",
    "#lr_model = LogisticRegression(solver='liblinear', random_state=0)\n",
    "lr_model = LogisticRegression(solver='liblinear')\n",
    "\n",
    "#Build logistic regressor on Training Set\n",
    "lr_model.fit(can_shoot_features, can_shoot_labels)\n",
    "\n",
    "\n",
    "\n",
    "#Output results on Validation set\n",
    "output_lr = lr_model.predict(cs_feat_valid)\n",
    "\n",
    "lr_conf_mat = confusion_matrix(cs_labels_valid, output_lr)\n",
    "\n",
    "lr_acc, lr_rec, lr_prec = getAcc_Rec_Prec(lr_conf_mat)\n",
    "\n",
    "print(\"LogisticRegression_Accuracy: \",lr_acc)\n",
    "print(\"LogisticRegression_Recall: \", lr_rec)\n",
    "print(\"LogisticRegression_Precision: \", lr_prec)"
   ]
  },
  {
   "cell_type": "markdown",
   "id": "7bc86935",
   "metadata": {},
   "source": [
    "# Save model if wanted. Specify folder directory"
   ]
  },
  {
   "cell_type": "code",
   "execution_count": 47,
   "id": "f5c157fd",
   "metadata": {},
   "outputs": [],
   "source": [
    "save = False\n",
    "if(save):\n",
    "    write_name='Feb13StratifiedModel'\n",
    "    model.save(write_name, save_format='tf')\n",
    "    import subprocess\n",
    "    #Prints out information needed on C++ side\n",
    "    subprocess.check_output(\"saved_model_cli show --dir \"+write_name+\" --tag_set serve --signature_def serving_default\")\n"
   ]
  },
  {
   "cell_type": "markdown",
   "id": "0ce3b92d",
   "metadata": {},
   "source": [
    "# Test Results"
   ]
  },
  {
   "cell_type": "code",
   "execution_count": 5,
   "id": "8a615e49",
   "metadata": {},
   "outputs": [
    {
     "name": "stdout",
     "output_type": "stream",
     "text": [
      "Model: \"sequential\"\n",
      "_________________________________________________________________\n",
      " Layer (type)                Output Shape              Param #   \n",
      "=================================================================\n",
      " batch_normalization (BatchN  (None, 5)                20        \n",
      " ormalization)                                                   \n",
      "                                                                 \n",
      " dense (Dense)               (None, 6)                 36        \n",
      "                                                                 \n",
      " batch_normalization_1 (Batc  (None, 6)                24        \n",
      " hNormalization)                                                 \n",
      "                                                                 \n",
      " dense_1 (Dense)             (None, 3)                 21        \n",
      "                                                                 \n",
      " dense_2 (Dense)             (None, 1)                 4         \n",
      "                                                                 \n",
      "=================================================================\n",
      "Total params: 105\n",
      "Trainable params: 83\n",
      "Non-trainable params: 22\n",
      "_________________________________________________________________\n"
     ]
    }
   ],
   "source": [
    "load_trained_model = True\n",
    "if(load_trained_model):\n",
    "    model = tf.keras.models.load_model('Feb13StratifiedModel/')\n",
    "    \n",
    "    model.summary()"
   ]
  },
  {
   "cell_type": "code",
   "execution_count": 15,
   "id": "bb6993a6",
   "metadata": {},
   "outputs": [
    {
     "ename": "NameError",
     "evalue": "name 'model' is not defined",
     "output_type": "error",
     "traceback": [
      "\u001b[1;31m---------------------------------------------------------------------------\u001b[0m",
      "\u001b[1;31mNameError\u001b[0m                                 Traceback (most recent call last)",
      "\u001b[1;32m<ipython-input-15-63dffea6b179>\u001b[0m in \u001b[0;36m<module>\u001b[1;34m\u001b[0m\n\u001b[0;32m     18\u001b[0m \u001b[1;33m\u001b[0m\u001b[0m\n\u001b[0;32m     19\u001b[0m \u001b[1;33m\u001b[0m\u001b[0m\n\u001b[1;32m---> 20\u001b[1;33m \u001b[0mresults\u001b[0m \u001b[1;33m=\u001b[0m \u001b[0mmodel\u001b[0m\u001b[1;33m.\u001b[0m\u001b[0mevaluate\u001b[0m\u001b[1;33m(\u001b[0m\u001b[0mtest_feat\u001b[0m\u001b[1;33m,\u001b[0m \u001b[0mtest_label\u001b[0m\u001b[1;33m)\u001b[0m\u001b[1;33m\u001b[0m\u001b[1;33m\u001b[0m\u001b[0m\n\u001b[0m\u001b[0;32m     21\u001b[0m \u001b[1;33m\u001b[0m\u001b[0m\n\u001b[0;32m     22\u001b[0m \u001b[0mprint\u001b[0m\u001b[1;33m(\u001b[0m\u001b[1;34m\"Final train_ loss, train_acc:\"\u001b[0m\u001b[1;33m,\u001b[0m \u001b[0mresults\u001b[0m\u001b[1;33m)\u001b[0m\u001b[1;33m\u001b[0m\u001b[1;33m\u001b[0m\u001b[0m\n",
      "\u001b[1;31mNameError\u001b[0m: name 'model' is not defined"
     ]
    }
   ],
   "source": [
    "test_names = [\"TestResults\\CanShoot2MotionTol2x.csv\",\n",
    "              \"TestResults\\CanShoot2MotionTol3x.csv\",\n",
    "              \"TestResults\\CanShoot2MotionTol4x.csv\",\n",
    "              \"TestResults\\CanShootStillTol2x.csv\"\n",
    "             ]\n",
    "test_feat, test_label, _ = get_feat_and_labels(test_names[0], as_tensor=False)\n",
    "data_test = test_feat\n",
    "data_label = test_label\n",
    "for n in test_names[1:]:\n",
    "    f,l,_ = get_feat_and_labels(n, as_tensor=False)\n",
    "    test_feat = pd.concat([test_feat, f], axis = 0)\n",
    "    test_label = pd.concat([test_label, l], axis = 0)\n",
    "    \n",
    "\n",
    "test_feat = tf.convert_to_tensor(test_feat, dtype=tf.float32)\n",
    "test_label = tf.convert_to_tensor(test_label, dtype=tf.float32)\n",
    "\n",
    "\n",
    "\n",
    "results = model.evaluate(test_feat, test_label)\n",
    "\n",
    "print(\"Final train_ loss, train_acc:\", results)\n",
    "\n",
    "test_out = model.predict(test_feat)\n",
    "\n",
    "test_conf = tf.math.confusion_matrix(test_label, np.round(test_out))\n",
    "\n",
    "print(test_conf)\n",
    "\n",
    "\n",
    "\n",
    "\n"
   ]
  },
  {
   "cell_type": "markdown",
   "id": "ae92882c",
   "metadata": {},
   "source": [
    "# Logistic Regression models performance on the Test Data"
   ]
  },
  {
   "cell_type": "code",
   "execution_count": 12,
   "id": "6b582926",
   "metadata": {},
   "outputs": [
    {
     "name": "stdout",
     "output_type": "stream",
     "text": [
      "\n",
      "_____________________________\n",
      "|Logistic Regression Results|\n"
     ]
    },
    {
     "ename": "NameError",
     "evalue": "name 'lr_model' is not defined",
     "output_type": "error",
     "traceback": [
      "\u001b[1;31m---------------------------------------------------------------------------\u001b[0m",
      "\u001b[1;31mNameError\u001b[0m                                 Traceback (most recent call last)",
      "\u001b[1;32m<ipython-input-12-d05f7a4ef0d7>\u001b[0m in \u001b[0;36m<module>\u001b[1;34m\u001b[0m\n\u001b[0;32m      1\u001b[0m \u001b[0mprint\u001b[0m\u001b[1;33m(\u001b[0m\u001b[1;34m\"\\n_____________________________\\n|Logistic Regression Results|\"\u001b[0m\u001b[1;33m)\u001b[0m\u001b[1;33m\u001b[0m\u001b[1;33m\u001b[0m\u001b[0m\n\u001b[1;32m----> 2\u001b[1;33m \u001b[0moutput_lr\u001b[0m \u001b[1;33m=\u001b[0m \u001b[0mlr_model\u001b[0m\u001b[1;33m.\u001b[0m\u001b[0mpredict\u001b[0m\u001b[1;33m(\u001b[0m\u001b[0mtest_feat\u001b[0m\u001b[1;33m)\u001b[0m\u001b[1;33m\u001b[0m\u001b[1;33m\u001b[0m\u001b[0m\n\u001b[0m\u001b[0;32m      3\u001b[0m \u001b[1;33m\u001b[0m\u001b[0m\n\u001b[0;32m      4\u001b[0m \u001b[0mlr_conf_mat\u001b[0m \u001b[1;33m=\u001b[0m \u001b[0mconfusion_matrix\u001b[0m\u001b[1;33m(\u001b[0m\u001b[0mtest_label\u001b[0m\u001b[1;33m,\u001b[0m \u001b[0moutput_lr\u001b[0m\u001b[1;33m)\u001b[0m\u001b[1;33m\u001b[0m\u001b[1;33m\u001b[0m\u001b[0m\n\u001b[0;32m      5\u001b[0m \u001b[0mprint\u001b[0m\u001b[1;33m(\u001b[0m\u001b[0mlr_conf_mat\u001b[0m\u001b[1;33m)\u001b[0m\u001b[1;33m\u001b[0m\u001b[1;33m\u001b[0m\u001b[0m\n",
      "\u001b[1;31mNameError\u001b[0m: name 'lr_model' is not defined"
     ]
    }
   ],
   "source": [
    "\n",
    "print(\"\\n_____________________________\\n|Logistic Regression Results|\")\n",
    "output_lr = lr_model.predict(test_feat)\n",
    "\n",
    "lr_conf_mat = confusion_matrix(test_label, output_lr)\n",
    "print(lr_conf_mat)\n",
    "\n",
    "lr_acc, lr_rec, lr_prec = getAcc_Rec_Prec(lr_conf_mat)\n",
    "\n",
    "print(\"LogisticRegression_Accuracy: \",lr_acc)\n",
    "print(\"LogisticRegression_Recall: \", lr_rec)\n",
    "print(\"LogisticRegression_Precision: \", lr_prec)"
   ]
  },
  {
   "cell_type": "code",
   "execution_count": 30,
   "id": "5aa1fcac",
   "metadata": {},
   "outputs": [
    {
     "name": "stdout",
     "output_type": "stream",
     "text": [
      "[ 0.0018335686493680826 -0.001815020190297834   0.005378647991601562\n",
      " -0.00862947931490611    0.03296512379693194  ]\n",
      "[0.011938457842768207]\n",
      "--- 1.064767228796127e-05 seconds ---\n"
     ]
    }
   ],
   "source": [
    "np.set_printoptions(precision=100, suppress=True)\n",
    "\n",
    "fun = lr_model.coef_[0]\n",
    "print(fun)\n",
    "print(lr_model.intercept_)\n",
    "intr = lr_model.intercept_ \n",
    "# out = fun * test_feat\n",
    "# pred = out.numpy().sum(axis=1) \n",
    "# pred[:] = pred[:]>=0\n",
    "\n",
    "import time\n",
    "start_time = time.time()\n",
    "t_feat = test_feat.numpy()\n",
    "for i in range(0,94):\n",
    "    pred = 0*0.0018335686493680826 +0*-0.001815020190297834 +1*0.005378647991601562 +6*-0.00862947931490611  +7*0.03296512379693194 + 0.011938457842768207\n",
    "print(\"--- %s seconds ---\" % ((time.time() - start_time)/(94.0)) )\n",
    "\n",
    "# print(data_test.head())"
   ]
  },
  {
   "cell_type": "code",
   "execution_count": 71,
   "id": "765465dd",
   "metadata": {},
   "outputs": [
    {
     "name": "stdout",
     "output_type": "stream",
     "text": [
      "[[ 2.119 -0.002]]\n",
      "[3.884]\n",
      "[4.413]\n",
      "-0.1881\n"
     ]
    },
    {
     "data": {
      "image/png": "[encoded data removed]",
      "text/plain": [
       "<Figure size 432x288 with 1 Axes>"
      ]
     },
     "metadata": {},
     "output_type": "display_data"
    }
   ],
   "source": [
    "from sklearn.linear_model import LogisticRegression\n",
    "from sklearn.metrics import classification_report, confusion_matrix\n",
    "\n",
    "import seaborn as sns\n",
    "\n",
    "#lr_model = LogisticRegression(solver='liblinear', random_state=0)\n",
    "lr_model = LogisticRegression(solver='liblinear')\n",
    "\n",
    "#Build logistic regressor on Training Set\n",
    "example_feat = can_shoot_features[:, :2]\n",
    "lr_model.fit(example_feat, can_shoot_labels)\n",
    "\n",
    "\n",
    "example_test = test_feat[:, :2]\n",
    "#Output results on Validation set\n",
    "output_lr = lr_model.predict(example_test)\n",
    "\n",
    "success_plot = example_test[test_label == True]\n",
    "fail_plot = example_test[test_label == False]\n",
    "\n",
    "w = lr_model.coef_[0]\n",
    "a = -w[0] / w[1]\n",
    "xx = np.linspace(-5, 5)\n",
    "yy = a * xx - (lr_model.intercept_[0]) / w[1]\n",
    "\n",
    "plt.scatter(success_plot[:,0], success_plot[:,1], c='b', label='success')\n",
    "plt.scatter(fail_plot[:,0], fail_plot[:,1], c='r', label='failures')\n",
    "\n",
    "#ax.legend(label='success')\n",
    "#ax.legend(label='failures')\n",
    "\n",
    "\n",
    "plt.axis([example_test[:,0].numpy().min(),example_test[:,0].numpy().max() \\\n",
    "          ,example_test[:,1].numpy().min(),example_test[:,1].numpy().max()])\n",
    "\n",
    "plt.legend()\n",
    "plt.plot(xx, yy, 'k-')\n",
    "plt.ylabel(\"Distance from Goal\")\n",
    "plt.xlabel(\"Angle to goalie\")\n",
    "\n",
    "print(lr_model.coef_)\n",
    "print(lr_model.intercept_)\n",
    "\n",
    "coordinate = np.array([.4,200])\n",
    "                      \n",
    "print( (coordinate*lr_model.coef_).sum() +lr_model.intercept_)\n",
    "print((.1*2.119 + 200*-.002))\n"
   ]
  },
  {
   "cell_type": "code",
   "execution_count": 22,
   "id": "65d9872b",
   "metadata": {},
   "outputs": [
    {
     "data": {
      "image/png": "[encoded data removed]",
      "text/plain": [
       "<Figure size 432x288 with 1 Axes>"
      ]
     },
     "metadata": {},
     "output_type": "display_data"
    },
    {
     "data": {
      "image/png": "[encoded data removed]",
      "text/plain": [
       "<Figure size 432x288 with 1 Axes>"
      ]
     },
     "metadata": {},
     "output_type": "display_data"
    }
   ],
   "source": [
    "from matplotlib import pyplot as plt \n",
    "\n",
    "#x = np.arange(1,11) \n",
    "#y = 2 * x + 5 \n",
    "plt.title(\"Matplotlib demo\") \n",
    "plt.xlabel(\"x axis caption\") \n",
    "plt.ylabel(\"y axis caption\") \n",
    "\n",
    "feat_to_plot = test_feat[:,1]\n",
    "plt.scatter(feat_to_plot,lr_model.predict_proba(test_feat)[:,1])\n",
    "#plt.plot(test_feat,fun) \n",
    "plt.show()\n",
    "\n",
    "plt.title(\"Matplotlib demo\") \n",
    "plt.xlabel(\"x axis caption\") \n",
    "plt.ylabel(\"y axis caption\") \n",
    "\n",
    "plt.scatter(feat_to_plot, test_label)\n",
    "plt.show()\n",
    "\n",
    "\n"
   ]
  },
  {
   "cell_type": "code",
   "execution_count": 7,
   "id": "a8196ff4",
   "metadata": {},
   "outputs": [
    {
     "ename": "NameError",
     "evalue": "name 'plt' is not defined",
     "output_type": "error",
     "traceback": [
      "\u001b[1;31m---------------------------------------------------------------------------\u001b[0m",
      "\u001b[1;31mNameError\u001b[0m                                 Traceback (most recent call last)",
      "\u001b[1;32m<ipython-input-7-d52a5e44965c>\u001b[0m in \u001b[0;36m<module>\u001b[1;34m\u001b[0m\n\u001b[1;32m----> 1\u001b[1;33m \u001b[0mf\u001b[0m\u001b[1;33m,\u001b[0m \u001b[0max\u001b[0m \u001b[1;33m=\u001b[0m \u001b[0mplt\u001b[0m\u001b[1;33m.\u001b[0m\u001b[0msubplots\u001b[0m\u001b[1;33m(\u001b[0m\u001b[0mfigsize\u001b[0m\u001b[1;33m=\u001b[0m\u001b[1;33m(\u001b[0m\u001b[1;36m7\u001b[0m\u001b[1;33m,\u001b[0m \u001b[1;36m7\u001b[0m\u001b[1;33m)\u001b[0m\u001b[1;33m)\u001b[0m\u001b[1;33m\u001b[0m\u001b[1;33m\u001b[0m\u001b[0m\n\u001b[0m\u001b[0;32m      2\u001b[0m \u001b[0mc1\u001b[0m\u001b[1;33m,\u001b[0m \u001b[0mc2\u001b[0m \u001b[1;33m=\u001b[0m \u001b[1;34m\"#3366AA\"\u001b[0m\u001b[1;33m,\u001b[0m \u001b[1;34m\"#AA3333\"\u001b[0m\u001b[1;33m\u001b[0m\u001b[1;33m\u001b[0m\u001b[0m\n\u001b[0;32m      3\u001b[0m \u001b[0max\u001b[0m\u001b[1;33m.\u001b[0m\u001b[0mscatter\u001b[0m\u001b[1;33m(\u001b[0m\u001b[1;33m*\u001b[0m\u001b[0mx1_samples\u001b[0m\u001b[1;33m.\u001b[0m\u001b[0mT\u001b[0m\u001b[1;33m,\u001b[0m \u001b[0mc\u001b[0m\u001b[1;33m=\u001b[0m\u001b[0mc1\u001b[0m\u001b[1;33m,\u001b[0m \u001b[0ms\u001b[0m\u001b[1;33m=\u001b[0m\u001b[1;36m40\u001b[0m\u001b[1;33m)\u001b[0m\u001b[1;33m\u001b[0m\u001b[1;33m\u001b[0m\u001b[0m\n\u001b[0;32m      4\u001b[0m \u001b[0max\u001b[0m\u001b[1;33m.\u001b[0m\u001b[0mscatter\u001b[0m\u001b[1;33m(\u001b[0m\u001b[1;33m*\u001b[0m\u001b[0mx2_samples\u001b[0m\u001b[1;33m.\u001b[0m\u001b[0mT\u001b[0m\u001b[1;33m,\u001b[0m \u001b[0mc\u001b[0m\u001b[1;33m=\u001b[0m\u001b[0mc2\u001b[0m\u001b[1;33m,\u001b[0m \u001b[0mmarker\u001b[0m\u001b[1;33m=\u001b[0m\u001b[1;34m\"D\"\u001b[0m\u001b[1;33m,\u001b[0m \u001b[0ms\u001b[0m\u001b[1;33m=\u001b[0m\u001b[1;36m40\u001b[0m\u001b[1;33m)\u001b[0m\u001b[1;33m\u001b[0m\u001b[1;33m\u001b[0m\u001b[0m\n\u001b[0;32m      5\u001b[0m \u001b[0mx_vec\u001b[0m \u001b[1;33m=\u001b[0m \u001b[0mnp\u001b[0m\u001b[1;33m.\u001b[0m\u001b[0mlinspace\u001b[0m\u001b[1;33m(\u001b[0m\u001b[1;33m*\u001b[0m\u001b[0max\u001b[0m\u001b[1;33m.\u001b[0m\u001b[0mget_xlim\u001b[0m\u001b[1;33m(\u001b[0m\u001b[1;33m)\u001b[0m\u001b[1;33m)\u001b[0m\u001b[1;33m\u001b[0m\u001b[1;33m\u001b[0m\u001b[0m\n",
      "\u001b[1;31mNameError\u001b[0m: name 'plt' is not defined"
     ]
    }
   ],
   "source": [
    "f, ax = plt.subplots(figsize=(7, 7))\n",
    "c1, c2 = \"#3366AA\", \"#AA3333\"\n",
    "ax.scatter(*x1_samples.T, c=c1, s=40)\n",
    "ax.scatter(*x2_samples.T, c=c2, marker=\"D\", s=40)\n",
    "x_vec = np.linspace(*ax.get_xlim())\n",
    "ax.contour(x_vec, x_vec,\n",
    "           decision_boundary(x_vec, mu_vec1, mu_vec2),\n",
    "           levels=[0], cmap=\"Greys_r\")"
   ]
  },
  {
   "cell_type": "code",
   "execution_count": 21,
   "id": "fb6683f1",
   "metadata": {},
   "outputs": [
    {
     "name": "stdout",
     "output_type": "stream",
     "text": [
      "(30, 500000)\n",
      "(30, 500000)\n"
     ]
    },
    {
     "data": {
      "text/plain": [
       "[None, (0.0, 0.3), (0.0, 5000.0), Text(0.5, 0, '$X_1$'), Text(0, 0.5, '$X_2$')]"
      ]
     },
     "execution_count": 21,
     "metadata": {},
     "output_type": "execute_result"
    },
    {
     "data": {
      "image/png": "[encoded data removed]",
      "text/plain": [
       "<Figure size 576x432 with 2 Axes>"
      ]
     },
     "metadata": {},
     "output_type": "display_data"
    },
    {
     "data": {
      "image/png": "[encoded data removed]",
      "text/plain": [
       "<Figure size 576x432 with 1 Axes>"
      ]
     },
     "metadata": {},
     "output_type": "display_data"
    }
   ],
   "source": [
    "import matplotlib.pyplot as plt\n",
    "import seaborn as sns\n",
    "sns.set(style=\"white\")\n",
    "# First, generate the data and fit the classifier to the training set:\n",
    "X = test_feat[: , 0:2]\n",
    "# print(X[:,0:1].shape)\n",
    "# X = tf.concat([X[:, 1:], X[:,0:1]], axis=1)\n",
    "\n",
    "y = test_label\n",
    "clf = LogisticRegression().fit(X[:100], y[:100])\n",
    "# Next, make a continuous grid of values and evaluate the probability of each (x, y) point in the grid:\n",
    "# xmin, xmax = X[100:,0].numpy().min(), X[100:,0].numpy().max()\n",
    "# ymin, ymax = X[100:,1].numpy().min(), X[100:,1].numpy().max()\n",
    "\n",
    "xmin, xmax = 0, .3\n",
    "ymin, ymax = 0, 5000\n",
    "\n",
    "#xx, yy = np.mgrid[-5:5:.01, -0:5000:.01]\n",
    "xx, yy = np.mgrid[xmin:xmax:.01, ymin:ymax:.01]\n",
    "grid = np.c_[xx.ravel(), yy.ravel()]\n",
    "print(xx.shape)\n",
    "print(yy.shape)\n",
    "probs = clf.predict_proba(grid)[:, 1].reshape(xx.shape)\n",
    "# Now, plot the probability grid as a contour map and additionally show the test set samples on top of it:\n",
    "\n",
    "f, ax = plt.subplots(figsize=(8, 6))\n",
    "contour = ax.contourf(xx, yy, probs, 25, cmap=\"RdBu\",\n",
    "                      vmin=0, vmax=1)\n",
    "ax_c = f.colorbar(contour)\n",
    "ax_c.set_label(\"$P(y = 1)$\")\n",
    "ax_c.set_ticks([0, .25, .5, .75, 1])\n",
    "\n",
    "ax.scatter(X[100:,0], X[100:, 1], c=y[100:], s=50,\n",
    "           cmap=\"RdBu\", vmin=-.2, vmax=1.2,\n",
    "           edgecolor=\"white\", linewidth=1)\n",
    "\n",
    "# ax.set(aspect=\"equal\",\n",
    "#        xlim=(-5, 5), ylim=(-5, 5),\n",
    "#        xlabel=\"$X_1$\", ylabel=\"$X_2$\")\n",
    "ax.set(aspect=\"auto\", \n",
    "       xlim=(xmin, xmax), ylim=(ymin, ymax),\n",
    "       xlabel=\"$X_1$\", ylabel=\"$X_2$\")\n",
    "# enter image description here\n",
    "\n",
    "# The logistic regression lets your classify new samples based on any threshold you want, so it doesn't inherently have one \"decision boundary.\" But, of course, a common decision rule to use is p = .5. We can also just draw that contour level using the above code:\n",
    "\n",
    "f, ax = plt.subplots(figsize=(8, 6))\n",
    "ax.contour(xx, yy, probs, levels=[.5], cmap=\"Greys\", vmin=0, vmax=.6)\n",
    "\n",
    "ax.scatter(X[100:,0], X[100:, 1], c=y[100:], s=50,\n",
    "           cmap=\"RdBu\", vmin=-.2, vmax=1.2,\n",
    "           edgecolor=\"white\", linewidth=1)\n",
    "\n",
    "ax.set(aspect=\"auto\",\n",
    "       xlim=(xmin, xmax), ylim=(ymin, ymax),\n",
    "       xlabel=\"$X_1$\", ylabel=\"$X_2$\")"
   ]
  }
 ],
 "metadata": {
  "kernelspec": {
   "display_name": "thesis",
   "language": "python",
   "name": "thesis"
  },
  "language_info": {
   "codemirror_mode": {
    "name": "ipython",
    "version": 3
   },
   "file_extension": ".py",
   "mimetype": "text/x-python",
   "name": "python",
   "nbconvert_exporter": "python",
   "pygments_lexer": "ipython3",
   "version": "3.7.11"
  }
 },
 "nbformat": 4,
 "nbformat_minor": 5
}
